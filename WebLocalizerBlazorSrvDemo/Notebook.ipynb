{
  "cells": [
    {
      "cell_type": "markdown",
      "metadata": {},
      "source": [
        "## Server- or Client-side Blazor\n",
        "\n",
        "If you simply want to know whether your code is running server-side or client-side, an even simpler approach is to evaluate \n",
        "\n",
        "```RuntimeInformation.IsOSPlatform(OSPlatform.Create(\"WEBASSEMBLY\"))```\n",
        "\n",
        "If it's ```true```, you're running client-side, and if it's ```false``` you're running server-side."
      ]
    },
    {
      "cell_type": "markdown",
      "metadata": {},
      "source": [
        "## PMC\n",
        "\n",
        "Before generating a migration execute:\n",
        "\n",
        "`$env:ASPNETCORE_ENVIRONMENT=\"Development\"`"
      ]
    }
  ],
  "metadata": {
    "kernelspec": {
      "display_name": ".NET (C#)",
      "language": "C#",
      "name": ".net-csharp"
    },
    "language_info": {
      "file_extension": ".cs",
      "mimetype": "text/x-csharp",
      "name": "C#",
      "pygments_lexer": "csharp",
      "version": "8.0"
    }
  },
  "nbformat": 4,
  "nbformat_minor": 4
}